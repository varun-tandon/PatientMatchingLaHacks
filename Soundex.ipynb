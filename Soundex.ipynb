{
 "cells": [
  {
   "cell_type": "code",
   "execution_count": 6,
   "metadata": {},
   "outputs": [],
   "source": [
    "#pip install Fuzzy\n",
    "import fuzzy\n",
    "import re #regular expressions\n",
    "from Levenshtein import distance as levenshtein_distance\n",
    "\n",
    "soundex = fuzzy.Soundex(4)"
   ]
  },
  {
   "cell_type": "code",
   "execution_count": 19,
   "metadata": {},
   "outputs": [
    {
     "name": "stdout",
     "output_type": "stream",
     "text": [
      "True\n",
      "J2\n"
     ]
    }
   ],
   "source": [
    "\n",
    "print(soundex('fzzy') == soundex('fuzzy'))\n",
    "print(soundex('juicy'))\n"
   ]
  },
  {
   "cell_type": "code",
   "execution_count": 23,
   "metadata": {},
   "outputs": [],
   "source": [
    "\n",
    "def generate_Ldist_df(df, column):\n",
    "    confidences = dict()\n",
    "    i = 0\n",
    "    for index1, row1 in df.iterrows():\n",
    "        for index2, row2 in df.iterrows():\n",
    "            isSame = 0\n",
    "            if row1[\"GroupID\"] == row2[\"GroupID\"]:\n",
    "                isSame = 1\n",
    "            confidences[i] = {\n",
    "                'index1': index1,\n",
    "                'index2': index2,\n",
    "                'Ldist': levenshtein_distance(\n",
    "                    row1[column],\n",
    "                    row2[column]\n",
    "                ),\n",
    "                'isSame':isSame\n",
    "            }\n",
    "            i += 1\n",
    "    return pd.DataFrame.from_dict(confidences, orient='index')\n",
    "\n",
    "\n",
    "def printConfvLDist(df, i):\n",
    "    for j in range(i):\n",
    "        dist = df[df.Ldist == j]\n",
    "        distconf = dist.isSame.value_counts(1)[1]\n",
    "        print(distconf)"
   ]
  },
  {
   "cell_type": "code",
   "execution_count": 24,
   "metadata": {},
   "outputs": [
    {
     "ename": "NameError",
     "evalue": "name 'df_patient' is not defined",
     "output_type": "error",
     "traceback": [
      "\u001b[0;31m---------------------------------------------------------------------------\u001b[0m",
      "\u001b[0;31mNameError\u001b[0m                                 Traceback (most recent call last)",
      "\u001b[0;32m<ipython-input-24-fed23fea6253>\u001b[0m in \u001b[0;36m<module>\u001b[0;34m\u001b[0m\n\u001b[0;32m----> 1\u001b[0;31m \u001b[0mdob_conf_stats\u001b[0m \u001b[0;34m=\u001b[0m \u001b[0mgenerate_Ldist_df\u001b[0m\u001b[0;34m(\u001b[0m\u001b[0mdf_patient\u001b[0m\u001b[0;34m,\u001b[0m \u001b[0;34m\"dob_string\"\u001b[0m\u001b[0;34m)\u001b[0m\u001b[0;34m\u001b[0m\u001b[0;34m\u001b[0m\u001b[0m\n\u001b[0m\u001b[1;32m      2\u001b[0m \u001b[0mfirst_name_conf_stats\u001b[0m \u001b[0;34m=\u001b[0m \u001b[0mgenerate_Ldist_df\u001b[0m\u001b[0;34m(\u001b[0m\u001b[0mdf_patient\u001b[0m\u001b[0;34m,\u001b[0m \u001b[0;34m\"rnaFirstName\"\u001b[0m\u001b[0;34m)\u001b[0m\u001b[0;34m\u001b[0m\u001b[0;34m\u001b[0m\u001b[0m\n\u001b[1;32m      3\u001b[0m \u001b[0mlast_name_conf_stats\u001b[0m \u001b[0;34m=\u001b[0m \u001b[0mgenerate_Ldist_df\u001b[0m\u001b[0;34m(\u001b[0m\u001b[0mdf_patient\u001b[0m\u001b[0;34m,\u001b[0m \u001b[0;34m\"rnaLastName\"\u001b[0m\u001b[0;34m)\u001b[0m\u001b[0;34m\u001b[0m\u001b[0;34m\u001b[0m\u001b[0m\n\u001b[1;32m      4\u001b[0m \u001b[0mgender_conf_stats\u001b[0m \u001b[0;34m=\u001b[0m \u001b[0mgenerate_Ldist_df\u001b[0m\u001b[0;34m(\u001b[0m\u001b[0mdf_patient\u001b[0m\u001b[0;34m,\u001b[0m \u001b[0;34m\"Sex\"\u001b[0m\u001b[0;34m)\u001b[0m\u001b[0;34m\u001b[0m\u001b[0;34m\u001b[0m\u001b[0m\n\u001b[1;32m      5\u001b[0m \u001b[0;34m\u001b[0m\u001b[0m\n",
      "\u001b[0;31mNameError\u001b[0m: name 'df_patient' is not defined"
     ]
    }
   ],
   "source": [
    "dob_conf_stats = generate_Ldist_df(df_patient, \"dob_string\")\n",
    "first_name_conf_stats = generate_Ldist_df(df_patient, \"rnaFirstName\")\n",
    "last_name_conf_stats = generate_Ldist_df(df_patient, \"rnaLastName\")\n",
    "gender_conf_stats = generate_Ldist_df(df_patient, \"Sex\")\n",
    "\n",
    "print(\"DOB stats\")\n",
    "printConfvLDist(dob_conf_stats, 5)\n",
    "\n",
    "print(\"Fname stats\")\n",
    "printConfvLDist(first_name_conf_stats, 5)\n",
    "\n",
    "print(\"Lname stats\")\n",
    "printConfvLDist(last_name_conf_stats, 5)\n",
    "\n",
    "print(\"Gender stats\")\n",
    "printConfvLDist(gender_conf_stats, 2)"
   ]
  },
  {
   "cell_type": "code",
   "execution_count": 55,
   "metadata": {},
   "outputs": [],
   "source": [
    "#pip install Fuzzy\n",
    "import fuzzy\n",
    "import re #regular expressions\n",
    "soundex = fuzzy.Soundex(4)\n",
    "\n",
    "def findConfidenceLevel(first_name1, last_name1, first_name2, last_name2):\n",
    "    #makes all caps\n",
    "    first_name1 = first_name1.upper()\n",
    "    last_name1 = last_name1.upper()\n",
    "    first_name2 = first_name2.upper()\n",
    "    last_name2 = last_name2.upper()\n",
    "    \n",
    "    #removes non-alphanumeric characters\n",
    "    rna_first_name1 = re.sub(r'\\W+', '', first_name1)\n",
    "    rna_last_name1 = re.sub(r'\\W+', '', last_name1)\n",
    "    rna_first_name2 = re.sub(r'\\W+', '', first_name2)\n",
    "    rna_last_name2 = re.sub(r'\\W+', '', last_name2)\n",
    "    \n",
    "    if rna_first_name1 == rna_first_name2 and rna_last_name1 == rna_last_name2:\n",
    "        return 100\n",
    "    elif rna_last_name1 == rna_last_name2 and rna_first_name1[:4] == rna_first_name2[:4]:\n",
    "        return 90\n",
    "    elif rna_last_name1 == rna_last_name2:\n",
    "        return 85\n",
    "    elif rna_last_name1[0:5] == rna_last_name2[0:5] and rna_first_name1[:4] == rna_first_name2[:4]:\n",
    "        return 80\n",
    "    elif soundex(last_name1) == soundex(last_name2) and soundex(first_name1) == soundex(first_name2):\n",
    "        return 79\n",
    "    elif soundex(rna_last_name1) == soundex(rna_last_name2) and soundex(rna_first_name1) == soundex(rna_first_name2):\n",
    "        return 77\n",
    "    elif rna_first_name1 == rna_first_name2 and soundex(rna_last_name1[:4]) == soundex(rna_last_name2[:4]):\n",
    "        return 76\n",
    "    elif rna_first_name1 == rna_first_name2:\n",
    "        return 60\n",
    "    else:\n",
    "        return 50\n",
    "    \n",
    "def findConfidenceLevelRound2(first_name1, last_name1, first_name2, last_name2):\n",
    "    #makes all caps\n",
    "    first_name1 = first_name1.upper()\n",
    "    last_name1 = last_name1.upper()\n",
    "    first_name2 = first_name2.upper()\n",
    "    last_name2 = last_name2.upper()\n",
    "    \n",
    "    #removes non-alphanumeric characters\n",
    "    rna_first_name1 = re.sub(r'\\W+', '', first_name1)\n",
    "    rna_last_name1 = re.sub(r'\\W+', '', last_name1)\n",
    "    rna_first_name2 = re.sub(r'\\W+', '', first_name2)\n",
    "    rna_last_name2 = re.sub(r'\\W+', '', last_name2)\n",
    "    \n",
    "    if rna_first_name1 == rna_first_name2 and rna_last_name1 == rna_last_name2:\n",
    "        return 100\n",
    "    elif rna_last_name1 == rna_last_name2 and rna_first_name1[:4] == rna_first_name2[:4]:\n",
    "        return 90\n",
    "    elif rna_last_name1 == rna_last_name2 and soundex(first_name1) == soundex(first_name2):\n",
    "        return 85\n",
    "    elif rna_last_name1[0:5] == rna_last_name2[0:5] and rna_first_name1[:4] == rna_first_name2[:4]:\n",
    "        return 80\n",
    "    elif soundex(last_name1) == soundex(last_name2) and soundex(first_name1) == soundex(first_name2):\n",
    "        return 79\n",
    "    elif soundex(rna_last_name1) == soundex(rna_last_name2) and soundex(rna_first_name1) == soundex(rna_first_name2):\n",
    "        return 77\n",
    "    elif rna_first_name1 == rna_first_name2 and soundex(rna_last_name1[:4]) == soundex(rna_last_name2[:4]):\n",
    "        return 76\n",
    "    elif rna_last_name1 == rna_last_name2:\n",
    "        return 75\n",
    "    elif rna_first_name1 == rna_first_name2:\n",
    "        return 60\n",
    "    else:\n",
    "        return 50\n",
    "    \n",
    "    "
   ]
  },
  {
   "cell_type": "code",
   "execution_count": 54,
   "metadata": {},
   "outputs": [
    {
     "data": {
      "text/plain": [
       "90"
      ]
     },
     "execution_count": 54,
     "metadata": {},
     "output_type": "execute_result"
    }
   ],
   "source": [
    "f1 = \"bincenta\"\n",
    "f2 = \"bincent!@#$%^&\"\n",
    "l1 = \"leen\"\n",
    "l2 = \"leen\"\n",
    "\n",
    "findConfidenceLevel(f1, l1, f2, l2)"
   ]
  },
  {
   "cell_type": "code",
   "execution_count": 17,
   "metadata": {},
   "outputs": [],
   "source": [
    "\n",
    "\n",
    "    \n",
    "    \n",
    "\n",
    "    \n",
    "    "
   ]
  },
  {
   "cell_type": "code",
   "execution_count": 22,
   "metadata": {},
   "outputs": [],
   "source": []
  },
  {
   "cell_type": "code",
   "execution_count": null,
   "metadata": {},
   "outputs": [],
   "source": [
    "\n"
   ]
  },
  {
   "cell_type": "code",
   "execution_count": 20,
   "metadata": {},
   "outputs": [
    {
     "data": {
      "text/plain": [
       "85"
      ]
     },
     "execution_count": 20,
     "metadata": {},
     "output_type": "execute_result"
    }
   ],
   "source": [
    "\n",
    "first_name1 = \"vincent\"\n",
    "last_name1 = \"li\"\n",
    "first_name2 = \"bincen\"\n",
    "last_name2 = \"li\"\n",
    "\n",
    "\n",
    "rna_first_name1 = re.sub(r'\\W+', '', first_name1)\n",
    "rna_last_name1 = re.sub(r'\\W+', '', last_name1)\n",
    "rna_first_name2 = re.sub(r'\\W+', '', first_name2)\n",
    "rna_last_name2 = re.sub(r'\\W+', '', last_name2)\n",
    "\n",
    "\n",
    "\n",
    "find_Levenshtein_Conf_Name(first_name1, last_name1, first_name2, last_name2, rna_first_name1, rna_last_name1, rna_first_name2, rna_last_name2)\n",
    "\n",
    "\n"
   ]
  },
  {
   "cell_type": "code",
   "execution_count": 21,
   "metadata": {},
   "outputs": [
    {
     "data": {
      "text/plain": [
       "3"
      ]
     },
     "execution_count": 21,
     "metadata": {},
     "output_type": "execute_result"
    }
   ],
   "source": [
    "levenshtein_distance(\"LOL\", \"lol\")"
   ]
  },
  {
   "cell_type": "code",
   "execution_count": null,
   "metadata": {},
   "outputs": [],
   "source": []
  }
 ],
 "metadata": {
  "kernelspec": {
   "display_name": "Python 3",
   "language": "python",
   "name": "python3"
  },
  "language_info": {
   "codemirror_mode": {
    "name": "ipython",
    "version": 3
   },
   "file_extension": ".py",
   "mimetype": "text/x-python",
   "name": "python",
   "nbconvert_exporter": "python",
   "pygments_lexer": "ipython3",
   "version": "3.7.6"
  }
 },
 "nbformat": 4,
 "nbformat_minor": 2
}
