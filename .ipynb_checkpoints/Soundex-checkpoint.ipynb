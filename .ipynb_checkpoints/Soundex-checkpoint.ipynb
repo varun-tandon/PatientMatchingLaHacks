{
 "cells": [
  {
   "cell_type": "code",
   "execution_count": 2,
   "metadata": {},
   "outputs": [],
   "source": [
    "#pip install Fuzzy\n",
    "import fuzzy\n",
    "import re #regular expressions\n",
    "soundex = fuzzy.Soundex(4)"
   ]
  },
  {
   "cell_type": "code",
   "execution_count": 19,
   "metadata": {},
   "outputs": [
    {
     "name": "stdout",
     "output_type": "stream",
     "text": [
      "True\n",
      "J2\n"
     ]
    }
   ],
   "source": [
    "\n",
    "print(soundex('fzzy') == soundex('fuzzy'))\n",
    "print(soundex('juicy'))\n"
   ]
  },
  {
   "cell_type": "code",
   "execution_count": 55,
   "metadata": {},
   "outputs": [],
   "source": [
    "#pip install Fuzzy\n",
    "import fuzzy\n",
    "import re #regular expressions\n",
    "soundex = fuzzy.Soundex(4)\n",
    "\n",
    "def findConfidenceLevel(first_name1, last_name1, first_name2, last_name2):\n",
    "    #makes all caps\n",
    "    first_name1 = first_name1.upper()\n",
    "    last_name1 = last_name1.upper()\n",
    "    first_name2 = first_name2.upper()\n",
    "    last_name2 = last_name2.upper()\n",
    "    \n",
    "    #removes non-alphanumeric characters\n",
    "    rna_first_name1 = re.sub(r'\\W+', '', first_name1)\n",
    "    rna_last_name1 = re.sub(r'\\W+', '', last_name1)\n",
    "    rna_first_name2 = re.sub(r'\\W+', '', first_name2)\n",
    "    rna_last_name2 = re.sub(r'\\W+', '', last_name2)\n",
    "    \n",
    "    if rna_first_name1 == rna_first_name2 and rna_last_name1 == rna_last_name2:\n",
    "        return 100\n",
    "    elif rna_last_name1 == rna_last_name2 and rna_first_name1[:4] == rna_first_name2[:4]:\n",
    "        return 90\n",
    "    elif rna_last_name1 == rna_last_name2:\n",
    "        return 85\n",
    "    elif rna_last_name1[0:5] == rna_last_name2[0:5] and rna_first_name1[:4] == rna_first_name2[:4]:\n",
    "        return 80\n",
    "    elif soundex(last_name1) == soundex(last_name2) and soundex(first_name1) == soundex(first_name2):\n",
    "        return 79\n",
    "    elif soundex(rna_last_name1) == soundex(rna_last_name2) and soundex(rna_first_name1) == soundex(rna_first_name2):\n",
    "        return 77\n",
    "    elif rna_first_name1 == rna_first_name2 and soundex(rna_last_name1[:4]) == soundex(rna_last_name2[:4]):\n",
    "        return 76\n",
    "    elif rna_first_name1 == rna_first_name2:\n",
    "        return 60\n",
    "    else:\n",
    "        return 50\n",
    "    \n",
    "def findConfidenceLevelRound2(first_name1, last_name1, first_name2, last_name2):\n",
    "    #makes all caps\n",
    "    first_name1 = first_name1.upper()\n",
    "    last_name1 = last_name1.upper()\n",
    "    first_name2 = first_name2.upper()\n",
    "    last_name2 = last_name2.upper()\n",
    "    \n",
    "    #removes non-alphanumeric characters\n",
    "    rna_first_name1 = re.sub(r'\\W+', '', first_name1)\n",
    "    rna_last_name1 = re.sub(r'\\W+', '', last_name1)\n",
    "    rna_first_name2 = re.sub(r'\\W+', '', first_name2)\n",
    "    rna_last_name2 = re.sub(r'\\W+', '', last_name2)\n",
    "    \n",
    "    if rna_first_name1 == rna_first_name2 and rna_last_name1 == rna_last_name2:\n",
    "        return 100\n",
    "    elif rna_last_name1 == rna_last_name2 and rna_first_name1[:4] == rna_first_name2[:4]:\n",
    "        return 90\n",
    "    elif rna_last_name1 == rna_last_name2 and soundex(first_name1) == soundex(first_name2):\n",
    "        return 85\n",
    "    elif rna_last_name1[0:5] == rna_last_name2[0:5] and rna_first_name1[:4] == rna_first_name2[:4]:\n",
    "        return 80\n",
    "    elif soundex(last_name1) == soundex(last_name2) and soundex(first_name1) == soundex(first_name2):\n",
    "        return 79\n",
    "    elif soundex(rna_last_name1) == soundex(rna_last_name2) and soundex(rna_first_name1) == soundex(rna_first_name2):\n",
    "        return 77\n",
    "    elif rna_first_name1 == rna_first_name2 and soundex(rna_last_name1[:4]) == soundex(rna_last_name2[:4]):\n",
    "        return 76\n",
    "    elif rna_last_name1 == rna_last_name2:\n",
    "        return 75\n",
    "    elif rna_first_name1 == rna_first_name2:\n",
    "        return 60\n",
    "    else:\n",
    "        return 50\n",
    "    \n",
    "    "
   ]
  },
  {
   "cell_type": "code",
   "execution_count": 54,
   "metadata": {},
   "outputs": [
    {
     "data": {
      "text/plain": [
       "90"
      ]
     },
     "execution_count": 54,
     "metadata": {},
     "output_type": "execute_result"
    }
   ],
   "source": [
    "f1 = \"bincenta\"\n",
    "f2 = \"bincent!@#$%^&\"\n",
    "l1 = \"leen\"\n",
    "l2 = \"leen\"\n",
    "\n",
    "findConfidenceLevel(f1, l1, f2, l2)"
   ]
  },
  {
   "cell_type": "code",
   "execution_count": null,
   "metadata": {},
   "outputs": [],
   "source": []
  }
 ],
 "metadata": {
  "kernelspec": {
   "display_name": "Python 3",
   "language": "python",
   "name": "python3"
  },
  "language_info": {
   "codemirror_mode": {
    "name": "ipython",
    "version": 3
   },
   "file_extension": ".py",
   "mimetype": "text/x-python",
   "name": "python",
   "nbconvert_exporter": "python",
   "pygments_lexer": "ipython3",
   "version": "3.7.6"
  }
 },
 "nbformat": 4,
 "nbformat_minor": 2
}
